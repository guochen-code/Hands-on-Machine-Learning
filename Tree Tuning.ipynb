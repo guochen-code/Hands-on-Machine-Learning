{
 "cells": [
  {
   "cell_type": "markdown",
   "id": "c193fcfb-bd98-4c8a-a5a2-6efbc6f3fe47",
   "metadata": {},
   "source": [
    "# Tuning"
   ]
  },
  {
   "cell_type": "code",
   "execution_count": 61,
   "id": "9099f918-6b90-49d8-95a6-cb5673f61344",
   "metadata": {},
   "outputs": [],
   "source": [
    "import xgboost as xgb"
   ]
  },
  {
   "cell_type": "code",
   "execution_count": 62,
   "id": "678f23c7-336e-4027-9136-effee87b79d0",
   "metadata": {},
   "outputs": [],
   "source": [
    "from xgboost import XGBClassifier"
   ]
  },
  {
   "cell_type": "markdown",
   "id": "7c26d57a-8b51-4911-8ff1-a664e4619dcb",
   "metadata": {},
   "source": [
    "## Baseline Model"
   ]
  },
  {
   "cell_type": "code",
   "execution_count": 130,
   "id": "56bc1aa7-40e1-48aa-b239-e051a67fd75d",
   "metadata": {},
   "outputs": [],
   "source": [
    "# base model\n",
    "base_model = XGBClassifier(random_state=10)"
   ]
  },
  {
   "cell_type": "code",
   "execution_count": 131,
   "id": "1069c000-4de0-485d-94f7-139d0ac1f740",
   "metadata": {},
   "outputs": [
    {
     "data": {
      "text/plain": [
       "XGBClassifier(base_score=0.5, booster='gbtree', callbacks=None,\n",
       "              colsample_bylevel=1, colsample_bynode=1, colsample_bytree=1,\n",
       "              early_stopping_rounds=None, enable_categorical=False,\n",
       "              eval_metric=None, gamma=0, gpu_id=-1, grow_policy='depthwise',\n",
       "              importance_type=None, interaction_constraints='',\n",
       "              learning_rate=0.300000012, max_bin=256, max_cat_to_onehot=4,\n",
       "              max_delta_step=0, max_depth=6, max_leaves=0, min_child_weight=1,\n",
       "              missing=nan, monotone_constraints='()', n_estimators=100,\n",
       "              n_jobs=0, num_parallel_tree=1, predictor='auto', random_state=10,\n",
       "              reg_alpha=0, reg_lambda=1, ...)"
      ]
     },
     "execution_count": 131,
     "metadata": {},
     "output_type": "execute_result"
    }
   ],
   "source": [
    "base_model.fit(X_train, y_train)"
   ]
  },
  {
   "cell_type": "code",
   "execution_count": 134,
   "id": "f1e30c6c-c29b-4f4e-8d07-0ebb80ef4206",
   "metadata": {},
   "outputs": [
    {
     "data": {
      "text/plain": [
       "(0.9990108803165183, 0.8003952569169961)"
      ]
     },
     "execution_count": 134,
     "metadata": {},
     "output_type": "execute_result"
    }
   ],
   "source": [
    "accuracy_score(y_train,base_model.predict(X_train)) , accuracy_score(y_test,base_model.predict(X_test)) "
   ]
  },
  {
   "cell_type": "markdown",
   "id": "17482191-8584-4ea8-aaa7-5e8e27b3f701",
   "metadata": {},
   "source": [
    "## Steps"
   ]
  },
  {
   "cell_type": "markdown",
   "id": "0417c5c1-1c91-487b-a083-0304b5911b07",
   "metadata": {},
   "source": [
    "min_samples_split = 500 : ~0.5-1% of total values. Since this is imbalanced class problem, we'll take small value\n",
    "\n",
    "min_samples_leaf = 50 : Just using for preventing overfitting. will be tuned later.\n",
    "\n",
    "max_depth = 8 : since high number of observations and predictors, choose relatively high value\n",
    "\n",
    "max_features = 'sqrt' : general thumbrule to start with\n",
    "\n",
    "subsample = 0.8 : typically used value (will be tuned later)\n",
    "\n",
    "0.1 is assumed to be a good learning rate to start with. "
   ]
  },
  {
   "cell_type": "markdown",
   "id": "89e137a5-86c9-47c3-84bf-98a8c242e500",
   "metadata": {},
   "source": [
    "n_estimators: \n",
    "\n",
    "Note that 60 is a reasonable value and can be used as it is. But it might not be the same in all cases. Other situations:\n",
    "\n",
    "If the value is around 20, you might want to try lowering the learning rate to 0.05 and re-run grid search\n",
    "\n",
    "If the values are too high ~100, tuning the other parameters will take long time and you can try a higher learning rate"
   ]
  },
  {
   "cell_type": "code",
   "execution_count": 141,
   "id": "5a8e13a1-b05c-4c0d-b448-b323c2f5b673",
   "metadata": {},
   "outputs": [
    {
     "name": "stdout",
     "output_type": "stream",
     "text": [
      "[13:43:35] WARNING: C:/Users/Administrator/workspace/xgboost-win64_release_1.6.0/src/learner.cc:627: \n",
      "Parameters: { \"max_features\", \"min_samples_leaf\", \"min_samples_split\" } might not be used.\n",
      "\n",
      "  This could be a false alarm, with some parameters getting used by language bindings but\n",
      "  then being mistakenly passed down to XGBoost core, or some parameter actually being used\n",
      "  but getting flagged wrongly here. Please open an issue if you find any such cases.\n",
      "\n",
      "\n"
     ]
    },
    {
     "data": {
      "text/plain": [
       "GridSearchCV(cv=5,\n",
       "             estimator=XGBClassifier(base_score=None, booster=None,\n",
       "                                     callbacks=None, colsample_bylevel=None,\n",
       "                                     colsample_bynode=None,\n",
       "                                     colsample_bytree=None,\n",
       "                                     early_stopping_rounds=None,\n",
       "                                     enable_categorical=False, eval_metric=None,\n",
       "                                     gamma=None, gpu_id=None, grow_policy=None,\n",
       "                                     importance_type=None,\n",
       "                                     interaction_constraints=None,\n",
       "                                     learning_rate=0.05, max_bin=None,\n",
       "                                     max_cat_to_onehot=None,\n",
       "                                     max_delta_step=None, max_depth=8,\n",
       "                                     max_features='sqrt', max_leaves=None,\n",
       "                                     min_child_weight=None, min_samples_leaf=50,\n",
       "                                     min_samples_split=20, missing=nan,\n",
       "                                     monotone_constraints=None,\n",
       "                                     n_estimators=100, n_jobs=None,\n",
       "                                     num_parallel_tree=None, predictor=None, ...),\n",
       "             n_jobs=4, param_grid={'n_estimators': range(20, 81, 10)},\n",
       "             scoring='accuracy')"
      ]
     },
     "execution_count": 141,
     "metadata": {},
     "output_type": "execute_result"
    }
   ],
   "source": [
    "#Grid seach on n_estimators\n",
    "param_test1 = {'n_estimators':range(20,81,10)}\n",
    "gsearch1 = GridSearchCV(estimator = XGBClassifier(learning_rate=0.05, min_samples_split=20,\n",
    "                                  min_samples_leaf=50,max_depth=8,max_features='sqrt', subsample=0.8,random_state=10), \n",
    "                       param_grid = param_test1, scoring='accuracy',n_jobs=4, cv=5)\n",
    "gsearch1.fit(X_train, y_train)"
   ]
  },
  {
   "cell_type": "code",
   "execution_count": 142,
   "id": "18f94ab7-9a7f-485e-b852-d75851a38cde",
   "metadata": {},
   "outputs": [
    {
     "data": {
      "text/plain": [
       "({'n_estimators': 60}, 0.8185026280405818)"
      ]
     },
     "execution_count": 142,
     "metadata": {},
     "output_type": "execute_result"
    }
   ],
   "source": [
    "gsearch1.best_params_, gsearch1.best_score_"
   ]
  },
  {
   "cell_type": "code",
   "execution_count": 143,
   "id": "1b899a9a-dfc6-49f1-b0f3-63e14618e6dc",
   "metadata": {},
   "outputs": [
    {
     "data": {
      "text/plain": [
       "(0.9124629080118695, 0.8201581027667985)"
      ]
     },
     "execution_count": 143,
     "metadata": {},
     "output_type": "execute_result"
    }
   ],
   "source": [
    "accuracy_score(y_train,gsearch1.predict(X_train)) , accuracy_score(y_test,gsearch1.predict(X_test)) "
   ]
  },
  {
   "cell_type": "code",
   "execution_count": 245,
   "id": "f345e6e2-7863-4c36-a884-f081cfeb46f5",
   "metadata": {},
   "outputs": [
    {
     "name": "stdout",
     "output_type": "stream",
     "text": [
      "[14:22:22] WARNING: C:/Users/Administrator/workspace/xgboost-win64_release_1.6.0/src/learner.cc:627: \n",
      "Parameters: { \"max_features\", \"min_samples_leaf\", \"min_samples_split\" } might not be used.\n",
      "\n",
      "  This could be a false alarm, with some parameters getting used by language bindings but\n",
      "  then being mistakenly passed down to XGBoost core, or some parameter actually being used\n",
      "  but getting flagged wrongly here. Please open an issue if you find any such cases.\n",
      "\n",
      "\n"
     ]
    },
    {
     "data": {
      "text/plain": [
       "GridSearchCV(cv=5,\n",
       "             estimator=XGBClassifier(base_score=None, booster=None,\n",
       "                                     callbacks=None, colsample_bylevel=None,\n",
       "                                     colsample_bynode=None,\n",
       "                                     colsample_bytree=None,\n",
       "                                     early_stopping_rounds=None,\n",
       "                                     enable_categorical=False, eval_metric=None,\n",
       "                                     gamma=None, gpu_id=None, grow_policy=None,\n",
       "                                     importance_type=None,\n",
       "                                     interaction_constraints=None,\n",
       "                                     learning_rate=0.05, max_bin=None,\n",
       "                                     max_ca...ot=None,\n",
       "                                     max_delta_step=None, max_depth=None,\n",
       "                                     max_features='sqrt', max_leaves=None,\n",
       "                                     min_child_weight=None, min_samples_leaf=50,\n",
       "                                     missing=nan, monotone_constraints=None,\n",
       "                                     n_estimators=60, n_jobs=None,\n",
       "                                     num_parallel_tree=None, predictor=None,\n",
       "                                     random_state=10, ...),\n",
       "             n_jobs=4,\n",
       "             param_grid={'max_depth': range(5, 16, 2),\n",
       "                         'min_samples_split': range(20, 101, 20)},\n",
       "             scoring='accuracy')"
      ]
     },
     "execution_count": 245,
     "metadata": {},
     "output_type": "execute_result"
    }
   ],
   "source": [
    "#Grid seach on subsample and max_features\n",
    "param_test2 = {'max_depth':range(5,16,2), 'min_samples_split':range(20,101,20)}\n",
    "gsearch2 = GridSearchCV(estimator = XGBClassifier(learning_rate=0.05, n_estimators=60,\n",
    "                                                min_samples_leaf=50,max_features='sqrt', subsample=0.8, random_state=10), \n",
    "                       param_grid = param_test2, scoring='accuracy',n_jobs=4, cv=5)\n",
    "gsearch2.fit(X_train, y_train)"
   ]
  },
  {
   "cell_type": "code",
   "execution_count": 246,
   "id": "803d4b7b-cd6e-47cb-97f9-888b76d6debf",
   "metadata": {},
   "outputs": [
    {
     "data": {
      "text/plain": [
       "({'max_depth': 7, 'min_samples_split': 20}, 0.8185087397628653)"
      ]
     },
     "execution_count": 246,
     "metadata": {},
     "output_type": "execute_result"
    }
   ],
   "source": [
    "gsearch2.best_params_, gsearch2.best_score_"
   ]
  },
  {
   "cell_type": "code",
   "execution_count": 247,
   "id": "f4bc96ad-3beb-41c6-8849-7e40e4ec34bd",
   "metadata": {},
   "outputs": [
    {
     "data": {
      "text/plain": [
       "(0.8951533135509396, 0.8241106719367589)"
      ]
     },
     "execution_count": 247,
     "metadata": {},
     "output_type": "execute_result"
    }
   ],
   "source": [
    "accuracy_score(y_train,gsearch2.predict(X_train)) , accuracy_score(y_test,gsearch2.predict(X_test)) "
   ]
  },
  {
   "cell_type": "markdown",
   "id": "9c93b154-506c-432c-b338-0f6bd8826651",
   "metadata": {},
   "source": [
    "Since we reached the minimum of min_sales_split, we should check higher values as well. Also, we can tune min_samples_leaf with it now as max_depth is fixed. \n",
    "\n",
    "One might argue that max depth might change for higher value but if you observe the output closely, a max_depth of 9 had a better model for most of cases. \n",
    "\n",
    "So lets perform a grid search on them:"
   ]
  },
  {
   "cell_type": "code",
   "execution_count": 176,
   "id": "f6b1c2db-087c-446d-a091-b373754738a5",
   "metadata": {},
   "outputs": [
    {
     "name": "stdout",
     "output_type": "stream",
     "text": [
      "[13:58:00] WARNING: C:/Users/Administrator/workspace/xgboost-win64_release_1.6.0/src/learner.cc:627: \n",
      "Parameters: { \"max_features\", \"min_samples_leaf\", \"min_samples_split\" } might not be used.\n",
      "\n",
      "  This could be a false alarm, with some parameters getting used by language bindings but\n",
      "  then being mistakenly passed down to XGBoost core, or some parameter actually being used\n",
      "  but getting flagged wrongly here. Please open an issue if you find any such cases.\n",
      "\n",
      "\n"
     ]
    },
    {
     "data": {
      "text/plain": [
       "GridSearchCV(cv=5,\n",
       "             estimator=XGBClassifier(base_score=None, booster=None,\n",
       "                                     callbacks=None, colsample_bylevel=None,\n",
       "                                     colsample_bynode=None,\n",
       "                                     colsample_bytree=None,\n",
       "                                     early_stopping_rounds=None,\n",
       "                                     enable_categorical=False, eval_metric=None,\n",
       "                                     gamma=None, gpu_id=None, grow_policy=None,\n",
       "                                     importance_type=None,\n",
       "                                     interaction_constraints=None,\n",
       "                                     learning_rate=0.05, max_bin=None,\n",
       "                                     max_ca...ehot=None,\n",
       "                                     max_delta_step=None, max_depth=7,\n",
       "                                     max_features='sqrt', max_leaves=None,\n",
       "                                     min_child_weight=None, missing=nan,\n",
       "                                     monotone_constraints=None, n_estimators=60,\n",
       "                                     n_jobs=None, num_parallel_tree=None,\n",
       "                                     predictor=None, random_state=10,\n",
       "                                     reg_alpha=None, ...),\n",
       "             n_jobs=4,\n",
       "             param_grid={'min_samples_leaf': range(30, 71, 10),\n",
       "                         'min_samples_split': range(2, 10, 2)},\n",
       "             scoring='accuracy')"
      ]
     },
     "execution_count": 176,
     "metadata": {},
     "output_type": "execute_result"
    }
   ],
   "source": [
    "#Grid seach on subsample and max_features\n",
    "param_test3 = {'min_samples_split':range(2,10,2), 'min_samples_leaf':range(30,71,10)}\n",
    "gsearch3 = GridSearchCV(estimator = XGBClassifier(learning_rate=0.05, n_estimators=60,max_depth=7,\n",
    "                                                    max_features='sqrt', subsample=0.8, random_state=10), \n",
    "                       param_grid = param_test3, scoring='accuracy',n_jobs=4, cv=5)\n",
    "gsearch3.fit(X_train, y_train)"
   ]
  },
  {
   "cell_type": "code",
   "execution_count": 177,
   "id": "4cf67d4a-048a-4fff-b607-2271f1d73dc2",
   "metadata": {},
   "outputs": [
    {
     "data": {
      "text/plain": [
       "({'min_samples_leaf': 30, 'min_samples_split': 2}, 0.8185087397628653)"
      ]
     },
     "execution_count": 177,
     "metadata": {},
     "output_type": "execute_result"
    }
   ],
   "source": [
    "gsearch3.best_params_, gsearch3.best_score_"
   ]
  },
  {
   "cell_type": "code",
   "execution_count": 178,
   "id": "f3b80215-de52-4f74-9bd9-8552111c251e",
   "metadata": {},
   "outputs": [
    {
     "data": {
      "text/plain": [
       "(0.8951533135509396, 0.8241106719367589)"
      ]
     },
     "execution_count": 178,
     "metadata": {},
     "output_type": "execute_result"
    }
   ],
   "source": [
    "accuracy_score(y_train,gsearch3.predict(X_train)) , accuracy_score(y_test,gsearch3.predict(X_test)) "
   ]
  },
  {
   "cell_type": "code",
   "execution_count": 204,
   "id": "535a4635-f1b6-4a9d-af5f-5979ffa6b920",
   "metadata": {},
   "outputs": [
    {
     "name": "stdout",
     "output_type": "stream",
     "text": [
      "[14:06:15] WARNING: C:/Users/Administrator/workspace/xgboost-win64_release_1.6.0/src/learner.cc:627: \n",
      "Parameters: { \"max_features\", \"min_samples_leaf\", \"min_samples_split\" } might not be used.\n",
      "\n",
      "  This could be a false alarm, with some parameters getting used by language bindings but\n",
      "  then being mistakenly passed down to XGBoost core, or some parameter actually being used\n",
      "  but getting flagged wrongly here. Please open an issue if you find any such cases.\n",
      "\n",
      "\n"
     ]
    },
    {
     "data": {
      "text/plain": [
       "GridSearchCV(cv=5,\n",
       "             estimator=XGBClassifier(base_score=None, booster=None,\n",
       "                                     callbacks=None, colsample_bylevel=None,\n",
       "                                     colsample_bynode=None,\n",
       "                                     colsample_bytree=None,\n",
       "                                     early_stopping_rounds=None,\n",
       "                                     enable_categorical=False, eval_metric=None,\n",
       "                                     gamma=None, gpu_id=None, grow_policy=None,\n",
       "                                     importance_type=None,\n",
       "                                     interaction_constraints=None,\n",
       "                                     learning_rate=0.05, max_bin=None,\n",
       "                                     max_cat_to_onehot=None,\n",
       "                                     max_delta_step=None, max_depth=7,\n",
       "                                     max_leaves=None, min_child_weight=None,\n",
       "                                     min_samples_leaf=30, min_samples_split=2,\n",
       "                                     missing=nan, monotone_constraints=None,\n",
       "                                     n_estimators=60, n_jobs=None,\n",
       "                                     num_parallel_tree=None, predictor=None,\n",
       "                                     random_state=10, ...),\n",
       "             n_jobs=4, param_grid={'max_features': range(7, 20, 2)},\n",
       "             scoring='roc_auc')"
      ]
     },
     "execution_count": 204,
     "metadata": {},
     "output_type": "execute_result"
    }
   ],
   "source": [
    "#Grid seach on subsample and max_features\n",
    "param_test4 = {'max_features':range(7,20,2)}\n",
    "gsearch4 = GridSearchCV(estimator = XGBClassifier(learning_rate=0.05, n_estimators=60,max_depth=7, \n",
    "                            min_samples_split=2, min_samples_leaf=30, subsample=0.8, random_state=10),\n",
    "                       param_grid = param_test4, scoring='roc_auc',n_jobs=4, cv=5)\n",
    "gsearch4.fit(X_train, y_train)"
   ]
  },
  {
   "cell_type": "code",
   "execution_count": 205,
   "id": "c4ddab96-4ce4-41f1-b159-007ba025bd08",
   "metadata": {},
   "outputs": [
    {
     "data": {
      "text/plain": [
       "({'max_features': 7}, 0.8811841562525526)"
      ]
     },
     "execution_count": 205,
     "metadata": {},
     "output_type": "execute_result"
    }
   ],
   "source": [
    "gsearch4.best_params_, gsearch4.best_score_"
   ]
  },
  {
   "cell_type": "code",
   "execution_count": 206,
   "id": "8b026544-b734-4420-bbbc-89d25f7df9a7",
   "metadata": {},
   "outputs": [
    {
     "data": {
      "text/plain": [
       "(0.8951533135509396, 0.8241106719367589)"
      ]
     },
     "execution_count": 206,
     "metadata": {},
     "output_type": "execute_result"
    }
   ],
   "source": [
    "accuracy_score(y_train,gsearch4.predict(X_train)) , accuracy_score(y_test,gsearch4.predict(X_test)) "
   ]
  },
  {
   "cell_type": "code",
   "execution_count": 216,
   "id": "03f50b65-5be6-48a3-a27f-12960bf32c28",
   "metadata": {},
   "outputs": [
    {
     "name": "stdout",
     "output_type": "stream",
     "text": [
      "[14:07:37] WARNING: C:/Users/Administrator/workspace/xgboost-win64_release_1.6.0/src/learner.cc:627: \n",
      "Parameters: { \"max_features\", \"min_samples_leaf\", \"min_samples_split\" } might not be used.\n",
      "\n",
      "  This could be a false alarm, with some parameters getting used by language bindings but\n",
      "  then being mistakenly passed down to XGBoost core, or some parameter actually being used\n",
      "  but getting flagged wrongly here. Please open an issue if you find any such cases.\n",
      "\n",
      "\n"
     ]
    },
    {
     "data": {
      "text/plain": [
       "GridSearchCV(cv=5,\n",
       "             estimator=XGBClassifier(base_score=None, booster=None,\n",
       "                                     callbacks=None, colsample_bylevel=None,\n",
       "                                     colsample_bynode=None,\n",
       "                                     colsample_bytree=None,\n",
       "                                     early_stopping_rounds=None,\n",
       "                                     enable_categorical=False, eval_metric=None,\n",
       "                                     gamma=None, gpu_id=None, grow_policy=None,\n",
       "                                     importance_type=None,\n",
       "                                     interaction_constraints=None,\n",
       "                                     learning_rate=0.05, max_bin=None,\n",
       "                                     max_cat_to_onehot=None,\n",
       "                                     max_delta_step=None, max_depth=7,\n",
       "                                     max_features=7, max_leaves=None,\n",
       "                                     min_child_weight=None, min_samples_leaf=30,\n",
       "                                     min_samples_split=2, missing=nan,\n",
       "                                     monotone_constraints=None, n_estimators=60,\n",
       "                                     n_jobs=None, num_parallel_tree=None,\n",
       "                                     predictor=None, ...),\n",
       "             n_jobs=4,\n",
       "             param_grid={'subsample': [0.6, 0.7, 0.75, 0.8, 0.85, 0.9]},\n",
       "             scoring='accuracy')"
      ]
     },
     "execution_count": 216,
     "metadata": {},
     "output_type": "execute_result"
    }
   ],
   "source": [
    "#Grid seach on subsample and max_features\n",
    "param_test5 = {'subsample':[0.6,0.7,0.75,0.8,0.85,0.9]}\n",
    "gsearch5 = GridSearchCV(estimator = XGBClassifier(learning_rate=0.05, n_estimators=60,max_depth=7, \n",
    "                            min_samples_split=2, min_samples_leaf=30, random_state=10, max_features=7),\n",
    "                       param_grid = param_test5, scoring='accuracy',n_jobs=4, cv=5)\n",
    "gsearch5.fit(X_train, y_train)"
   ]
  },
  {
   "cell_type": "code",
   "execution_count": 217,
   "id": "32e7d187-ec7b-4f24-832f-c7f87b357b6f",
   "metadata": {},
   "outputs": [
    {
     "data": {
      "text/plain": [
       "({'subsample': 0.8}, 0.8185087397628653)"
      ]
     },
     "execution_count": 217,
     "metadata": {},
     "output_type": "execute_result"
    }
   ],
   "source": [
    "gsearch5.best_params_, gsearch5.best_score_"
   ]
  },
  {
   "cell_type": "code",
   "execution_count": 218,
   "id": "43098392-e429-4c8c-a643-d6103787a88e",
   "metadata": {},
   "outputs": [
    {
     "data": {
      "text/plain": [
       "(0.8951533135509396, 0.8241106719367589)"
      ]
     },
     "execution_count": 218,
     "metadata": {},
     "output_type": "execute_result"
    }
   ],
   "source": [
    "accuracy_score(y_train,gsearch5.predict(X_train)) , accuracy_score(y_test,gsearch5.predict(X_test)) "
   ]
  },
  {
   "cell_type": "markdown",
   "id": "6f98d5e0-6556-426a-aeb4-45cfb319cd5a",
   "metadata": {},
   "source": [
    "With all tuned lets try reducing the learning rate and proportionally increasing the number of estimators to get more robust results:"
   ]
  },
  {
   "cell_type": "code",
   "execution_count": 221,
   "id": "a9c99af5-a9d1-42ec-8ac5-e36d27b59443",
   "metadata": {},
   "outputs": [
    {
     "name": "stdout",
     "output_type": "stream",
     "text": [
      "[14:08:57] WARNING: C:/Users/Administrator/workspace/xgboost-win64_release_1.6.0/src/learner.cc:627: \n",
      "Parameters: { \"max_features\", \"min_samples_leaf\", \"min_samples_split\" } might not be used.\n",
      "\n",
      "  This could be a false alarm, with some parameters getting used by language bindings but\n",
      "  then being mistakenly passed down to XGBoost core, or some parameter actually being used\n",
      "  but getting flagged wrongly here. Please open an issue if you find any such cases.\n",
      "\n",
      "\n"
     ]
    },
    {
     "data": {
      "text/plain": [
       "XGBClassifier(base_score=0.5, booster='gbtree', callbacks=None,\n",
       "              colsample_bylevel=1, colsample_bynode=1, colsample_bytree=1,\n",
       "              early_stopping_rounds=None, enable_categorical=False,\n",
       "              eval_metric=None, gamma=0, gpu_id=-1, grow_policy='depthwise',\n",
       "              importance_type=None, interaction_constraints='',\n",
       "              learning_rate=0.01, max_bin=256, max_cat_to_onehot=4,\n",
       "              max_delta_step=0, max_depth=7, max_features=7, max_leaves=0,\n",
       "              min_child_weight=1, min_samples_leaf=30, min_samples_split=2,\n",
       "              missing=nan, monotone_constraints='()', n_estimators=300,\n",
       "              n_jobs=0, num_parallel_tree=1, predictor='auto', ...)"
      ]
     },
     "execution_count": 221,
     "metadata": {},
     "output_type": "execute_result"
    }
   ],
   "source": [
    "#Choose all predictors except target & IDcols\n",
    "gbm_tuned_1  = XGBClassifier(learning_rate=0.01, n_estimators=300,max_depth=7, subsample=0.8,\n",
    "                            min_samples_split=2, min_samples_leaf=30, random_state=10, max_features=7)\n",
    "gbm_tuned_1.fit(X_train, y_train)"
   ]
  },
  {
   "cell_type": "code",
   "execution_count": 222,
   "id": "50a67b25-b6e3-4a08-a527-6e2ae40c307e",
   "metadata": {},
   "outputs": [
    {
     "data": {
      "text/plain": [
       "(0.8986152324431256, 0.8181818181818182)"
      ]
     },
     "execution_count": 222,
     "metadata": {},
     "output_type": "execute_result"
    }
   ],
   "source": [
    "accuracy_score(y_train,gbm_tuned_1.predict(X_train)) , param_grid = param_test5, accuracy_score(y_test,gbm_tuned_1.predict(X_test)) "
   ]
  },
  {
   "cell_type": "code",
   "execution_count": 226,
   "id": "9c60ead8-21c3-4e12-b498-bdb4db778865",
   "metadata": {},
   "outputs": [
    {
     "name": "stdout",
     "output_type": "stream",
     "text": [
      "[14:10:56] WARNING: C:/Users/Administrator/workspace/xgboost-win64_release_1.6.0/src/learner.cc:627: \n",
      "Parameters: { \"max_features\", \"min_samples_leaf\", \"min_samples_split\" } might not be used.\n",
      "\n",
      "  This could be a false alarm, with some parameters getting used by language bindings but\n",
      "  then being mistakenly passed down to XGBoost core, or some parameter actually being used\n",
      "  but getting flagged wrongly here. Please open an issue if you find any such cases.\n",
      "\n",
      "\n"
     ]
    },
    {
     "data": {
      "text/plain": [
       "XGBClassifier(base_score=0.5, booster='gbtree', callbacks=None,\n",
       "              colsample_bylevel=1, colsample_bynode=1, colsample_bytree=1,\n",
       "              early_stopping_rounds=None, enable_categorical=False,\n",
       "              eval_metric=None, gamma=0, gpu_id=-1, grow_policy='depthwise',\n",
       "              importance_type=None, interaction_constraints='',\n",
       "              learning_rate=0.005, max_bin=256, max_cat_to_onehot=4,\n",
       "              max_delta_step=0, max_depth=7, max_features=7, max_leaves=0,\n",
       "              min_child_weight=1, min_samples_leaf=30, min_samples_split=2,\n",
       "              missing=nan, monotone_constraints='()', n_estimators=600,\n",
       "              n_jobs=0, num_parallel_tree=1, predictor='auto', ...)"
      ]
     },
     "execution_count": 226,
     "metadata": {},
     "output_type": "execute_result"
    }
   ],
   "source": [
    "#Choose all predictors except target & IDcols\n",
    "gbm_tuned_2  = XGBClassifier(learning_rate=0.005, n_estimators=600,max_depth=7, subsample=0.8,\n",
    "                            min_samples_split=2, min_samples_leaf=30, random_state=10, max_features=7)\n",
    "gbm_tuned_2.fit(X_train, y_train)"
   ]
  },
  {
   "cell_type": "code",
   "execution_count": 225,
   "id": "7c53fe27-f092-4fe4-9c83-577e29e0463c",
   "metadata": {},
   "outputs": [
    {
     "data": {
      "text/plain": [
       "(0.9742828882294757, 0.8221343873517787)"
      ]
     },
     "execution_count": 225,
     "metadata": {},
     "output_type": "execute_result"
    }
   ],
   "source": [
    "accuracy_score(y_train,gbm_tuned_2.predict(X_train)) , accuracy_score(y_test,gbm_tuned_2.predict(X_test)) "
   ]
  },
  {
   "cell_type": "code",
   "execution_count": 229,
   "id": "ce566772-d9ce-4320-bf67-aa22e5d8a768",
   "metadata": {},
   "outputs": [
    {
     "name": "stdout",
     "output_type": "stream",
     "text": [
      "[14:12:05] WARNING: C:/Users/Administrator/workspace/xgboost-win64_release_1.6.0/src/learner.cc:627: \n",
      "Parameters: { \"max_features\", \"min_samples_leaf\", \"min_samples_split\" } might not be used.\n",
      "\n",
      "  This could be a false alarm, with some parameters getting used by language bindings but\n",
      "  then being mistakenly passed down to XGBoost core, or some parameter actually being used\n",
      "  but getting flagged wrongly here. Please open an issue if you find any such cases.\n",
      "\n",
      "\n"
     ]
    },
    {
     "data": {
      "text/plain": [
       "XGBClassifier(base_score=0.5, booster='gbtree', callbacks=None,\n",
       "              colsample_bylevel=1, colsample_bynode=1, colsample_bytree=1,\n",
       "              early_stopping_rounds=None, enable_categorical=False,\n",
       "              eval_metric=None, gamma=0, gpu_id=-1, grow_policy='depthwise',\n",
       "              importance_type=None, interaction_constraints='',\n",
       "              learning_rate=0.001, max_bin=256, max_cat_to_onehot=4,\n",
       "              max_delta_step=0, max_depth=7, max_features=7, max_leaves=0,\n",
       "              min_child_weight=1, min_samples_leaf=30, min_samples_split=2,\n",
       "              missing=nan, monotone_constraints='()', n_estimators=3000,\n",
       "              n_jobs=0, num_parallel_tree=1, predictor='auto', ...)"
      ]
     },
     "execution_count": 229,
     "metadata": {},
     "output_type": "execute_result"
    }
   ],
   "source": [
    "#Choose all predictors except target & IDcols\n",
    "gbm_tuned_3  = XGBClassifier(learning_rate=0.001, n_estimators=3000,max_depth=7, subsample=0.8,\n",
    "                            min_samples_split=2, min_samples_leaf=30, random_state=10, max_features=7)\n",
    "gbm_tuned_3.fit(X_train, y_train)"
   ]
  },
  {
   "cell_type": "code",
   "execution_count": 230,
   "id": "9a809915-fa20-40fa-a558-ba3a1dc3c74c",
   "metadata": {},
   "outputs": [
    {
     "data": {
      "text/plain": [
       "(0.9010880316518298, 0.8181818181818182)"
      ]
     },
     "execution_count": 230,
     "metadata": {},
     "output_type": "execute_result"
    }
   ],
   "source": [
    "accuracy_score(y_train,gbm_tuned_3.predict(X_train)) , accuracy_score(y_test,gbm_tuned_3.predict(X_test)) "
   ]
  },
  {
   "cell_type": "code",
   "execution_count": 237,
   "id": "3ea99bef-ac78-480c-9767-8ad56b54c367",
   "metadata": {},
   "outputs": [
    {
     "name": "stdout",
     "output_type": "stream",
     "text": [
      "[14:13:38] WARNING: C:/Users/Administrator/workspace/xgboost-win64_release_1.6.0/src/learner.cc:627: \n",
      "Parameters: { \"max_features\", \"min_samples_leaf\", \"min_samples_split\" } might not be used.\n",
      "\n",
      "  This could be a false alarm, with some parameters getting used by language bindings but\n",
      "  then being mistakenly passed down to XGBoost core, or some parameter actually being used\n",
      "  but getting flagged wrongly here. Please open an issue if you find any such cases.\n",
      "\n",
      "\n"
     ]
    },
    {
     "data": {
      "text/plain": [
       "XGBClassifier(base_score=0.5, booster='gbtree', callbacks=None,\n",
       "              colsample_bylevel=1, colsample_bynode=1, colsample_bytree=1,\n",
       "              early_stopping_rounds=None, enable_categorical=False,\n",
       "              eval_metric=None, gamma=0, gpu_id=-1, grow_policy='depthwise',\n",
       "              importance_type=None, interaction_constraints='',\n",
       "              learning_rate=0.005, max_bin=256, max_cat_to_onehot=4,\n",
       "              max_delta_step=0, max_depth=7, max_features=7, max_leaves=0,\n",
       "              min_child_weight=1, min_samples_leaf=30, min_samples_split=2,\n",
       "              missing=nan, monotone_constraints='()', n_estimators=800,\n",
       "              n_jobs=0, num_parallel_tree=1, predictor='auto', ...)"
      ]
     },
     "execution_count": 237,
     "metadata": {},
     "output_type": "execute_result"
    }
   ],
   "source": [
    "#Choose all predictors except target & IDcols\n",
    "gbm_tuned_4  = XGBClassifier(learning_rate=0.005, n_estimators=800,max_depth=7, subsample=0.8,\n",
    "                            min_samples_split=2, min_samples_leaf=30, random_state=10, max_features=7)\n",
    "gbm_tuned_4.fit(X_train, y_train)"
   ]
  },
  {
   "cell_type": "code",
   "execution_count": 238,
   "id": "3b4b31dd-5d18-43e5-9aac-51fead763b96",
   "metadata": {},
   "outputs": [
    {
     "data": {
      "text/plain": [
       "(0.9144411473788329, 0.8221343873517787)"
      ]
     },
     "execution_count": 238,
     "metadata": {},
     "output_type": "execute_result"
    }
   ],
   "source": [
    "accuracy_score(y_train,gbm_tuned_4.predict(X_train)) , accuracy_score(y_test,gbm_tuned_4.predict(X_test)) "
   ]
  },
  {
   "cell_type": "markdown",
   "id": "01016489-f7cd-4fad-a552-8959fee94233",
   "metadata": {},
   "source": [
    "# Early Stopping"
   ]
  },
  {
   "cell_type": "code",
   "execution_count": 239,
   "id": "5df21d0b-0588-419a-813e-92ba82bcf0e0",
   "metadata": {},
   "outputs": [],
   "source": [
    "from sklearn.model_selection import train_test_split\n",
    "X_train_2, X_valid, y_train_2, y_valid = train_test_split(X_train, y_train, test_size=0.3, random_state=42,stratify=y_train)"
   ]
  },
  {
   "cell_type": "code",
   "execution_count": 275,
   "id": "c9628947-27d3-4b5d-aaef-a2bea1a4dc66",
   "metadata": {},
   "outputs": [
    {
     "name": "stderr",
     "output_type": "stream",
     "text": [
      "C:\\Users\\CGuo\\Anaconda3\\lib\\site-packages\\xgboost\\sklearn.py:793: UserWarning: `early_stopping_rounds` in `fit` method is deprecated for better compatibility with scikit-learn, use `early_stopping_rounds` in constructor or`set_params` instead.\n",
      "  warnings.warn(\n"
     ]
    },
    {
     "data": {
      "text/plain": [
       "XGBClassifier(base_score=0.5, booster='gbtree', callbacks=None,\n",
       "              colsample_bylevel=1, colsample_bynode=1, colsample_bytree=1,\n",
       "              early_stopping_rounds=None, enable_categorical=False,\n",
       "              eval_metric=None, gamma=0, gpu_id=-1, grow_policy='depthwise',\n",
       "              importance_type=None, interaction_constraints='',\n",
       "              learning_rate=0.01, max_bin=256, max_cat_to_onehot=4,\n",
       "              max_delta_step=0, max_depth=6, max_leaves=0, min_child_weight=1,\n",
       "              missing=nan, monotone_constraints='()', n_estimators=2000,\n",
       "              n_jobs=-1, num_parallel_tree=1, predictor='auto', random_state=0,\n",
       "              reg_alpha=0, reg_lambda=1, ...)"
      ]
     },
     "execution_count": 275,
     "metadata": {},
     "output_type": "execute_result"
    }
   ],
   "source": [
    "my_model = XGBClassifier(n_estimators=2000,learning_rate=0.01,n_jobs=-1)\n",
    "my_model.fit(X_train_2, y_train_2, \n",
    "             early_stopping_rounds=5, \n",
    "             eval_set=[(X_valid, y_valid)],\n",
    "             verbose=False)"
   ]
  },
  {
   "cell_type": "code",
   "execution_count": 276,
   "id": "96a7861e-0574-4688-b956-b30b6c2d6102",
   "metadata": {},
   "outputs": [
    {
     "data": {
      "text/plain": [
       "XGBClassifier(base_score=0.5, booster='gbtree', callbacks=None,\n",
       "              colsample_bylevel=1, colsample_bynode=1, colsample_bytree=1,\n",
       "              early_stopping_rounds=None, enable_categorical=False,\n",
       "              eval_metric=None, gamma=0, gpu_id=-1, grow_policy='depthwise',\n",
       "              importance_type=None, interaction_constraints='',\n",
       "              learning_rate=0.01, max_bin=256, max_cat_to_onehot=4,\n",
       "              max_delta_step=0, max_depth=6, max_leaves=0, min_child_weight=1,\n",
       "              missing=nan, monotone_constraints='()', n_estimators=2000,\n",
       "              n_jobs=-1, num_parallel_tree=1, predictor='auto', random_state=0,\n",
       "              reg_alpha=0, reg_lambda=1, ...)"
      ]
     },
     "execution_count": 276,
     "metadata": {},
     "output_type": "execute_result"
    }
   ],
   "source": [
    "my_model.fit(X_train, y_train)"
   ]
  },
  {
   "cell_type": "code",
   "execution_count": 277,
   "id": "5ec2dab1-27bb-4ec9-a79b-83491a881b72",
   "metadata": {},
   "outputs": [
    {
     "data": {
      "text/plain": [
       "0.9817012858555886"
      ]
     },
     "execution_count": 277,
     "metadata": {},
     "output_type": "execute_result"
    }
   ],
   "source": [
    "accuracy_score(y_train,my_model.predict(X_train)) "
   ]
  },
  {
   "cell_type": "code",
   "execution_count": 278,
   "id": "cf96103c-b436-44b8-b47d-c90f27bf9c7d",
   "metadata": {},
   "outputs": [],
   "source": [
    "y_pred = my_model.predict(X_test) "
   ]
  },
  {
   "cell_type": "code",
   "execution_count": 279,
   "id": "4709dc77-36ff-4e98-ba0e-f5ad8cf18332",
   "metadata": {},
   "outputs": [
    {
     "data": {
      "text/plain": [
       "0.8181818181818182"
      ]
     },
     "execution_count": 279,
     "metadata": {},
     "output_type": "execute_result"
    }
   ],
   "source": [
    "accuracy_score(y_test, y_pred) "
   ]
  },
  {
   "cell_type": "code",
   "execution_count": null,
   "id": "0d329bce-05cf-438e-a7dc-9ada51e9489a",
   "metadata": {},
   "outputs": [],
   "source": []
  }
 ],
 "metadata": {
  "kernelspec": {
   "display_name": "Python 3 (ipykernel)",
   "language": "python",
   "name": "python3"
  },
  "language_info": {
   "codemirror_mode": {
    "name": "ipython",
    "version": 3
   },
   "file_extension": ".py",
   "mimetype": "text/x-python",
   "name": "python",
   "nbconvert_exporter": "python",
   "pygments_lexer": "ipython3",
   "version": "3.9.7"
  }
 },
 "nbformat": 4,
 "nbformat_minor": 5
}
