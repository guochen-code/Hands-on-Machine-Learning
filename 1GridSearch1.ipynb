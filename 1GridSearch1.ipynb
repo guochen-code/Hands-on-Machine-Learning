{
 "cells": [
  {
   "cell_type": "code",
   "execution_count": 78,
   "metadata": {},
   "outputs": [],
   "source": [
    "import numpy as np\n",
    "import random\n",
    "import datetime"
   ]
  },
  {
   "cell_type": "code",
   "execution_count": 79,
   "metadata": {},
   "outputs": [],
   "source": [
    "def KRR_function(X,y,z):\n",
    "    return (X-3)**3+(y-1)**3+z**3"
   ]
  },
  {
   "cell_type": "code",
   "execution_count": 80,
   "metadata": {},
   "outputs": [],
   "source": [
    "def create_hyperparams_grid(X,y,z):\n",
    "    graph_x = []\n",
    "    graph_y = []\n",
    "    graph_z = []\n",
    "    graph_result=[]\n",
    "    for alpha_value in X:\n",
    "        graph_x_row = []\n",
    "        graph_y_row = []\n",
    "        graph_z_row = []\n",
    "        graph_result_row = []\n",
    "        for gamma_value in y:\n",
    "            for beta_value in z:\n",
    "                rmse = KRR_function(alpha_value,gamma_value,beta_value)\n",
    "                graph_x_row.append(alpha_value)\n",
    "                graph_y_row.append(gamma_value)\n",
    "                graph_z_row.append(beta_value)\n",
    "                graph_result_row.append(rmse)\n",
    "            graph_x.append(graph_x_row)\n",
    "            graph_y.append(graph_y_row)\n",
    "            graph_z.append(graph_z_row)\n",
    "            graph_result.append(graph_result_row)\n",
    "    graph_x=np.array(graph_x)\n",
    "    graph_y=np.array(graph_y)\n",
    "    graph_z=np.array(graph_z)\n",
    "    graph_result=np.array(graph_result)\n",
    "    max_result = np.max(graph_result)\n",
    "    pos_max_result = np.argwhere(graph_result == np.max(graph_result))[0]\n",
    "    print('Minimum RMSE: %.4f' %(max_result))\n",
    "    print('Optimum alpha: %f' %(graph_x[pos_max_result[0],pos_max_result[1]]))\n",
    "    print('Optimum gamma: %f' %(graph_y[pos_max_result[0],pos_max_result[1]]))\n",
    "    print('Optimum beta: %f' %(graph_z[pos_max_result[0],pos_max_result[1]]))\n",
    "    return graph_x,graph_y,graph_z,graph_result"
   ]
  },
  {
   "cell_type": "code",
   "execution_count": 81,
   "metadata": {},
   "outputs": [],
   "source": [
    "x1=np.arange(-200,200,2)\n",
    "x2=np.arange(-100,100,2)\n",
    "x3=np.arange(-100,100,2)"
   ]
  },
  {
   "cell_type": "code",
   "execution_count": 86,
   "metadata": {},
   "outputs": [],
   "source": [
    "current_time1 = datetime.datetime.now()"
   ]
  },
  {
   "cell_type": "code",
   "execution_count": 87,
   "metadata": {},
   "outputs": [
    {
     "name": "stdout",
     "output_type": "stream",
     "text": [
      "Minimum RMSE: 9268740.0000\n",
      "Optimum alpha: 198.000000\n",
      "Optimum gamma: 98.000000\n",
      "Optimum beta: 98.000000\n"
     ]
    },
    {
     "data": {
      "text/plain": [
       "(array([[-200, -200, -200, ..., -200, -200, -200],\n",
       "        [-200, -200, -200, ..., -200, -200, -200],\n",
       "        [-200, -200, -200, ..., -200, -200, -200],\n",
       "        ...,\n",
       "        [ 198,  198,  198, ...,  198,  198,  198],\n",
       "        [ 198,  198,  198, ...,  198,  198,  198],\n",
       "        [ 198,  198,  198, ...,  198,  198,  198]]),\n",
       " array([[-100, -100, -100, ...,   98,   98,   98],\n",
       "        [-100, -100, -100, ...,   98,   98,   98],\n",
       "        [-100, -100, -100, ...,   98,   98,   98],\n",
       "        ...,\n",
       "        [-100, -100, -100, ...,   98,   98,   98],\n",
       "        [-100, -100, -100, ...,   98,   98,   98],\n",
       "        [-100, -100, -100, ...,   98,   98,   98]]),\n",
       " array([[-100,  -98,  -96, ...,   94,   96,   98],\n",
       "        [-100,  -98,  -96, ...,   94,   96,   98],\n",
       "        [-100,  -98,  -96, ...,   94,   96,   98],\n",
       "        ...,\n",
       "        [-100,  -98,  -96, ...,   94,   96,   98],\n",
       "        [-100,  -98,  -96, ...,   94,   96,   98],\n",
       "        [-100,  -98,  -96, ...,   94,   96,   98]]),\n",
       " array([[-10395728, -10336920, -10280464, ...,  -6622170,  -6568018,\n",
       "          -6511562],\n",
       "        [-10395728, -10336920, -10280464, ...,  -6622170,  -6568018,\n",
       "          -6511562],\n",
       "        [-10395728, -10336920, -10280464, ...,  -6622170,  -6568018,\n",
       "          -6511562],\n",
       "        ...,\n",
       "        [  5384574,   5443382,   5499838, ...,   9158132,   9212284,\n",
       "           9268740],\n",
       "        [  5384574,   5443382,   5499838, ...,   9158132,   9212284,\n",
       "           9268740],\n",
       "        [  5384574,   5443382,   5499838, ...,   9158132,   9212284,\n",
       "           9268740]]))"
      ]
     },
     "execution_count": 87,
     "metadata": {},
     "output_type": "execute_result"
    }
   ],
   "source": [
    "create_hyperparams_grid(x1,x2,x3)"
   ]
  },
  {
   "cell_type": "code",
   "execution_count": 88,
   "metadata": {},
   "outputs": [
    {
     "name": "stdout",
     "output_type": "stream",
     "text": [
      "0:01:53.939414\n"
     ]
    }
   ],
   "source": [
    "current_time2 = datetime.datetime.now()\n",
    "print (current_time2 - current_time1)"
   ]
  },
  {
   "cell_type": "code",
   "execution_count": 77,
   "metadata": {},
   "outputs": [
    {
     "data": {
      "text/plain": [
       "200"
      ]
     },
     "execution_count": 77,
     "metadata": {},
     "output_type": "execute_result"
    }
   ],
   "source": [
    "len(x1)"
   ]
  },
  {
   "cell_type": "code",
   "execution_count": null,
   "metadata": {},
   "outputs": [],
   "source": []
  }
 ],
 "metadata": {
  "kernelspec": {
   "display_name": "Python 3",
   "language": "python",
   "name": "python3"
  },
  "language_info": {
   "codemirror_mode": {
    "name": "ipython",
    "version": 3
   },
   "file_extension": ".py",
   "mimetype": "text/x-python",
   "name": "python",
   "nbconvert_exporter": "python",
   "pygments_lexer": "ipython3",
   "version": "3.7.6"
  }
 },
 "nbformat": 4,
 "nbformat_minor": 4
}
