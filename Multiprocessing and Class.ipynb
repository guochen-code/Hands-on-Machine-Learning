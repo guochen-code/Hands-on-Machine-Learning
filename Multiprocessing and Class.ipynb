{
 "cells": [
  {
   "cell_type": "markdown",
   "id": "d64323ff-3c4c-4128-ba50-c96f07fcb9cf",
   "metadata": {},
   "source": [
    "## Multiprocessing and Class"
   ]
  },
  {
   "cell_type": "markdown",
   "id": "e92aaca9-c795-4d99-87d8-70be41893758",
   "metadata": {},
   "source": [
    "### Define a class"
   ]
  },
  {
   "cell_type": "code",
   "execution_count": 1,
   "id": "e4bbf683-fb3e-48b0-a2a0-dcdb5ce6d85e",
   "metadata": {},
   "outputs": [],
   "source": [
    "class Listener:\n",
    "    def __init__(self,opla_job):\n",
    "        self.opla_job=opla_job\n",
    "        self.lst=[]\n",
    "    def test(self):\n",
    "        for i in range(0,3):\n",
    "            self.lst.append(i)"
   ]
  },
  {
   "cell_type": "code",
   "execution_count": 2,
   "id": "1ed63e30-4b64-4008-8c4f-75b25223d14d",
   "metadata": {},
   "outputs": [],
   "source": [
    "import multiprocessing"
   ]
  },
  {
   "cell_type": "code",
   "execution_count": 3,
   "id": "ea8a7909-ce58-4857-9891-605527b5e5e6",
   "metadata": {},
   "outputs": [],
   "source": [
    "active_lst=['listener1','listener2']\n",
    "all_active_process = {}"
   ]
  },
  {
   "cell_type": "code",
   "execution_count": 4,
   "id": "8845553b-d80d-405e-ac64-3fc392e03efe",
   "metadata": {},
   "outputs": [
    {
     "name": "stdout",
     "output_type": "stream",
     "text": [
      "Starting to create a new process: listener1\n",
      "<__main__.Listener object at 0x000001637050F6A0>\n",
      "{'listener1': <Process name='listener1' pid=20484 parent=3364 started>}\n",
      "Starting to create a new process: listener2\n",
      "<__main__.Listener object at 0x000001637050F9A0>\n",
      "{'listener1': <Process name='listener1' pid=20484 parent=3364 stopped exitcode=1>, 'listener2': <Process name='listener2' pid=18984 parent=3364 started>}\n"
     ]
    }
   ],
   "source": [
    "for opla_job in active_lst:\n",
    "    print('Starting to create a new process:', opla_job)\n",
    "    instance = Listener(opla_job)\n",
    "    print(instance)\n",
    "    p = multiprocessing.Process(target=instance.test, name=opla_job)\n",
    "    p.start()\n",
    "    all_active_process[opla_job] = p\n",
    "    print(all_active_process)"
   ]
  },
  {
   "cell_type": "code",
   "execution_count": 5,
   "id": "b058c9b3-01d8-439d-9421-9a5a5dd9cba5",
   "metadata": {},
   "outputs": [
    {
     "data": {
      "text/plain": [
       "{'listener1': <Process name='listener1' pid=20484 parent=3364 stopped exitcode=1>,\n",
       " 'listener2': <Process name='listener2' pid=18984 parent=3364 stopped exitcode=1>}"
      ]
     },
     "execution_count": 5,
     "metadata": {},
     "output_type": "execute_result"
    }
   ],
   "source": [
    "import time\n",
    "time.sleep(1)\n",
    "all_active_process"
   ]
  },
  {
   "cell_type": "markdown",
   "id": "8ff0f782-f170-46dc-bb36-355f448ad3c1",
   "metadata": {},
   "source": [
    "### note exitcode = 1 above"
   ]
  },
  {
   "cell_type": "markdown",
   "id": "6de201c2-3e0c-4003-bab8-0d33aa9c95be",
   "metadata": {},
   "source": [
    "### To fix: add ()"
   ]
  },
  {
   "cell_type": "code",
   "execution_count": 6,
   "id": "e538a521-c244-4f4c-8caf-3d437bf31bda",
   "metadata": {},
   "outputs": [
    {
     "name": "stdout",
     "output_type": "stream",
     "text": [
      "Starting to create a new process: listener1\n",
      "<__main__.Listener object at 0x000001637050F550>\n",
      "{'listener1': <Process name='listener1' pid=12840 parent=3364 started>, 'listener2': <Process name='listener2' pid=18984 parent=3364 stopped exitcode=1>}\n",
      "Starting to create a new process: listener2\n",
      "<__main__.Listener object at 0x000001636CC5F100>\n",
      "{'listener1': <Process name='listener1' pid=12840 parent=3364 stopped exitcode=0>, 'listener2': <Process name='listener2' pid=2828 parent=3364 started>}\n"
     ]
    }
   ],
   "source": [
    "for opla_job in active_lst:\n",
    "    print('Starting to create a new process:', opla_job)\n",
    "    instance = Listener(opla_job)\n",
    "    print(instance)\n",
    "    p = multiprocessing.Process(target=instance.test(), name=opla_job)\n",
    "    p.start()\n",
    "    all_active_process[opla_job] = p\n",
    "    print(all_active_process)"
   ]
  },
  {
   "cell_type": "code",
   "execution_count": 7,
   "id": "47603644-c14d-49d1-89a2-765c65f889b0",
   "metadata": {},
   "outputs": [
    {
     "data": {
      "text/plain": [
       "{'listener1': <Process name='listener1' pid=12840 parent=3364 stopped exitcode=0>,\n",
       " 'listener2': <Process name='listener2' pid=2828 parent=3364 stopped exitcode=0>}"
      ]
     },
     "execution_count": 7,
     "metadata": {},
     "output_type": "execute_result"
    }
   ],
   "source": [
    "import time\n",
    "time.sleep(1)\n",
    "all_active_process"
   ]
  },
  {
   "cell_type": "markdown",
   "id": "d0c72ca2-6eb3-409b-a335-18221322ec5a",
   "metadata": {},
   "source": [
    "### note exitcode = 0 above"
   ]
  },
  {
   "cell_type": "markdown",
   "id": "efaacdfc-47fb-44e0-b4a6-d25dc8e1f653",
   "metadata": {},
   "source": [
    "### what if use import"
   ]
  },
  {
   "cell_type": "code",
   "execution_count": 1,
   "id": "1bb138a0-3a2f-429b-8111-1f504fdf960a",
   "metadata": {},
   "outputs": [],
   "source": [
    "from Listener import Listener\n",
    "import multiprocessing"
   ]
  },
  {
   "cell_type": "code",
   "execution_count": 2,
   "id": "0b309187-573a-4217-9039-80c3e1358a06",
   "metadata": {},
   "outputs": [],
   "source": [
    "active_lst=['listener1','listener2']\n",
    "all_active_process = {}"
   ]
  },
  {
   "cell_type": "code",
   "execution_count": 3,
   "id": "04845ffc-dc69-4781-b3c3-960fcbffe0cb",
   "metadata": {},
   "outputs": [
    {
     "name": "stdout",
     "output_type": "stream",
     "text": [
      "Starting to create a new process: listener1\n",
      "<Listener.Listener object at 0x0000024D81B99CA0>\n",
      "{'listener1': <Process name='listener1' pid=20336 parent=9184 started>}\n",
      "Starting to create a new process: listener2\n",
      "<Listener.Listener object at 0x0000024D81B99580>\n",
      "{'listener1': <Process name='listener1' pid=20336 parent=9184 stopped exitcode=0>, 'listener2': <Process name='listener2' pid=10840 parent=9184 started>}\n"
     ]
    }
   ],
   "source": [
    "for opla_job in active_lst:\n",
    "    print('Starting to create a new process:', opla_job)\n",
    "    instance = Listener(opla_job)\n",
    "    print(instance)\n",
    "    p = multiprocessing.Process(target=instance.test, name=opla_job)\n",
    "    p.start()\n",
    "    all_active_process[opla_job] = p\n",
    "    print(all_active_process)"
   ]
  },
  {
   "cell_type": "code",
   "execution_count": 4,
   "id": "3b38b893-cde1-4cad-9be0-c26455710fc7",
   "metadata": {},
   "outputs": [
    {
     "data": {
      "text/plain": [
       "{'listener1': <Process name='listener1' pid=20336 parent=9184 stopped exitcode=0>,\n",
       " 'listener2': <Process name='listener2' pid=10840 parent=9184 stopped exitcode=0>}"
      ]
     },
     "execution_count": 4,
     "metadata": {},
     "output_type": "execute_result"
    }
   ],
   "source": [
    "import time\n",
    "time.sleep(1)\n",
    "all_active_process"
   ]
  },
  {
   "cell_type": "markdown",
   "id": "a00cdec8-4a1d-4e86-bea0-bb30a019f677",
   "metadata": {},
   "source": [
    "### note exitcode = 0 above, but no need to add ()"
   ]
  },
  {
   "cell_type": "code",
   "execution_count": null,
   "id": "8873279e-f318-4492-b397-63cc59ca1b3e",
   "metadata": {},
   "outputs": [],
   "source": []
  },
  {
   "cell_type": "code",
   "execution_count": 2,
   "id": "cb4c96b7-f057-4ab7-9eea-94e5802bc10f",
   "metadata": {},
   "outputs": [],
   "source": [
    "listener1=Listener('yy')\n",
    "listener2=Listener('qq')"
   ]
  },
  {
   "cell_type": "code",
   "execution_count": 3,
   "id": "7a08a20c-97ec-4ef5-bb2c-44c881e9a5d1",
   "metadata": {},
   "outputs": [],
   "source": [
    "listener1.test()"
   ]
  },
  {
   "cell_type": "code",
   "execution_count": 4,
   "id": "2d3ae691-b32e-45c0-84de-c2cc001ae4d2",
   "metadata": {},
   "outputs": [
    {
     "data": {
      "text/plain": [
       "[0, 1, 2]"
      ]
     },
     "execution_count": 4,
     "metadata": {},
     "output_type": "execute_result"
    }
   ],
   "source": [
    "listener1.lst"
   ]
  },
  {
   "cell_type": "code",
   "execution_count": 5,
   "id": "23d4a81c-8cfe-4cdf-9904-319029d37fb9",
   "metadata": {},
   "outputs": [
    {
     "data": {
      "text/plain": [
       "<bound method Listener.test of <Listener.Listener object at 0x0000026F9BF71B20>>"
      ]
     },
     "execution_count": 5,
     "metadata": {},
     "output_type": "execute_result"
    }
   ],
   "source": [
    "listener2.test"
   ]
  },
  {
   "cell_type": "code",
   "execution_count": 6,
   "id": "84a98cdd-8ab5-4d22-a7fb-1aaa0cac3795",
   "metadata": {},
   "outputs": [
    {
     "data": {
      "text/plain": [
       "[]"
      ]
     },
     "execution_count": 6,
     "metadata": {},
     "output_type": "execute_result"
    }
   ],
   "source": [
    "listener2.lst"
   ]
  },
  {
   "cell_type": "code",
   "execution_count": 7,
   "id": "0b8f6f4b-dfdd-4c4b-8b0e-696133498229",
   "metadata": {},
   "outputs": [],
   "source": [
    "listener2.test()"
   ]
  },
  {
   "cell_type": "code",
   "execution_count": 8,
   "id": "f549db46-81c6-4c2f-a45f-8d5cd538631f",
   "metadata": {},
   "outputs": [
    {
     "data": {
      "text/plain": [
       "[0, 1, 2]"
      ]
     },
     "execution_count": 8,
     "metadata": {},
     "output_type": "execute_result"
    }
   ],
   "source": [
    "listener2.lst"
   ]
  },
  {
   "cell_type": "code",
   "execution_count": null,
   "id": "680ed03a-5f2f-4476-b2c4-aa65d3638522",
   "metadata": {},
   "outputs": [],
   "source": []
  }
 ],
 "metadata": {
  "kernelspec": {
   "display_name": "Python 3 (ipykernel)",
   "language": "python",
   "name": "python3"
  },
  "language_info": {
   "codemirror_mode": {
    "name": "ipython",
    "version": 3
   },
   "file_extension": ".py",
   "mimetype": "text/x-python",
   "name": "python",
   "nbconvert_exporter": "python",
   "pygments_lexer": "ipython3",
   "version": "3.9.7"
  }
 },
 "nbformat": 4,
 "nbformat_minor": 5
}
