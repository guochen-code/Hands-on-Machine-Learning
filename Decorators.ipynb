{
 "cells": [
  {
   "cell_type": "code",
   "execution_count": 1,
   "id": "3051f30c-c249-434c-b058-7d73cd879baa",
   "metadata": {},
   "outputs": [],
   "source": [
    "from functools import wraps\n",
    "import time\n",
    "import tracemalloc"
   ]
  },
  {
   "cell_type": "markdown",
   "id": "a52438db-8972-4f30-a806-43db23e99069",
   "metadata": {},
   "source": [
    "### logging"
   ]
  },
  {
   "cell_type": "code",
   "execution_count": 2,
   "id": "4295334a-f168-4ec8-94d9-5741838ebc9c",
   "metadata": {},
   "outputs": [],
   "source": [
    "def measure_performance(func):\n",
    "    @wraps(func)\n",
    "    def wrapper(*args,**kwargs):\n",
    "        start_time=time.time()\n",
    "        func(*args,**kwargs)\n",
    "        current, peak=tracemalloc.get_traced_memory()\n",
    "        end_time=time.time()\n",
    "        print('Function: {}'.format(func.__name__))\n",
    "        print('Method: {}'.format(func.__doc__))\n",
    "        print('Memory usage: {:.12f} MB \\nPeak memory usage: {:.12f} MB'.format(current/10**6,peak/10**6))\n",
    "        print('Time elapsed is seconds: {:.6f}'.format(end_time-start_time))\n",
    "        print('-'*40)\n",
    "        tracemalloc.stop()\n",
    "    return wrapper"
   ]
  },
  {
   "cell_type": "code",
   "execution_count": 3,
   "id": "f0c5f818-df69-42ea-8df9-6020b79eb498",
   "metadata": {},
   "outputs": [],
   "source": [
    "@measure_performance\n",
    "def make_list1():\n",
    "    '''Range'''\n",
    "\n",
    "    my_list = list(range(100000))\n",
    "\n",
    "\n",
    "@measure_performance\n",
    "def make_list2():\n",
    "    '''List comprehension'''\n",
    "\n",
    "    my_list = [l for l in range(100000)]\n",
    "\n",
    "\n",
    "@measure_performance\n",
    "def make_list3():\n",
    "    '''Append'''\n",
    "\n",
    "    my_list = []\n",
    "    for item in range(100000):\n",
    "        my_list.append(item)\n",
    "\n",
    "\n",
    "@measure_performance\n",
    "def make_list4():\n",
    "    '''Concatenation'''\n",
    "\n",
    "    my_list = []\n",
    "    for item in range(100000):\n",
    "        my_list = my_list + [item]"
   ]
  },
  {
   "cell_type": "code",
   "execution_count": 4,
   "id": "575e1527-841d-4f8e-a429-f699a4549922",
   "metadata": {},
   "outputs": [
    {
     "name": "stdout",
     "output_type": "stream",
     "text": [
      "Function: make_list1\n",
      "Method: Range\n",
      "Memory usage: 0.000000000000 MB \n",
      "Peak memory usage: 0.000000000000 MB\n",
      "Time elapsed is seconds: 0.005360\n",
      "----------------------------------------\n",
      "None\n",
      "Function: make_list2\n",
      "Method: List comprehension\n",
      "Memory usage: 0.000000000000 MB \n",
      "Peak memory usage: 0.000000000000 MB\n",
      "Time elapsed is seconds: 0.004000\n",
      "----------------------------------------\n",
      "None\n",
      "Function: make_list3\n",
      "Method: Append\n",
      "Memory usage: 0.000000000000 MB \n",
      "Peak memory usage: 0.000000000000 MB\n",
      "Time elapsed is seconds: 0.008620\n",
      "----------------------------------------\n",
      "None\n",
      "Function: make_list4\n",
      "Method: Concatenation\n",
      "Memory usage: 0.000000000000 MB \n",
      "Peak memory usage: 0.000000000000 MB\n",
      "Time elapsed is seconds: 20.453591\n",
      "----------------------------------------\n",
      "None\n"
     ]
    }
   ],
   "source": [
    "print(make_list1())\n",
    "print(make_list2())\n",
    "print(make_list3())\n",
    "print(make_list4())"
   ]
  },
  {
   "cell_type": "markdown",
   "id": "b40110cb-c5a2-4a72-a237-3e4911aac3fc",
   "metadata": {},
   "source": [
    "### limit query"
   ]
  },
  {
   "cell_type": "code",
   "execution_count": 12,
   "id": "8bae2bb1-9763-48c4-b50a-0de176bd3f22",
   "metadata": {},
   "outputs": [],
   "source": [
    "import requests\n",
    "\n",
    "\n",
    "class LimitQuery:\n",
    "\n",
    "    def __init__(self, func):\n",
    "        self.func = func\n",
    "        self.count = 0\n",
    "\n",
    "    def __call__(self, *args, **kwargs):\n",
    "        self.limit = args[0]\n",
    "        if self.count < self.limit:\n",
    "            self.count += 1\n",
    "            return self.func(*args, **kwargs)\n",
    "        else:\n",
    "            print(f'No queries left. All {self.count} queries used.')\n",
    "            return\n",
    "\n",
    "@LimitQuery\n",
    "def get_coin_price(limit):\n",
    "    '''View the Bitcoin Price Index (BPI)'''\n",
    "    \n",
    "    url = requests.get('https://api.coindesk.com/v1/bpi/currentprice.json')\n",
    "\n",
    "    if url.status_code == 200:\n",
    "        text = url.json()\n",
    "        return f\"${float(text['bpi']['USD']['rate_float']):.2f}\""
   ]
  },
  {
   "cell_type": "code",
   "execution_count": 13,
   "id": "a27b0bb4-e22a-4169-b96e-85b33ac439c9",
   "metadata": {},
   "outputs": [
    {
     "name": "stdout",
     "output_type": "stream",
     "text": [
      "$31095.67\n",
      "$31095.67\n",
      "$31095.67\n",
      "$31095.67\n",
      "$31095.67\n",
      "No queries left. All 5 queries used.\n",
      "None\n"
     ]
    }
   ],
   "source": [
    "print(get_coin_price(5))\n",
    "print(get_coin_price(5))\n",
    "print(get_coin_price(5))\n",
    "print(get_coin_price(5))\n",
    "print(get_coin_price(5))\n",
    "print(get_coin_price(5))"
   ]
  },
  {
   "cell_type": "markdown",
   "id": "46a5c626-b010-4554-9f7c-80b275fb96d6",
   "metadata": {},
   "source": [
    "### no cumulative effect. class can."
   ]
  },
  {
   "cell_type": "code",
   "execution_count": 15,
   "id": "6cd3378d-081d-426d-b869-afe852de8058",
   "metadata": {},
   "outputs": [],
   "source": [
    "def limitquery(func):\n",
    "    def wrapper(*args,**kwargs):\n",
    "        count=0\n",
    "        limit=args[0]\n",
    "        if count < limit:\n",
    "            count+=1\n",
    "            return func(*args,**kwargs)\n",
    "        else:\n",
    "            print(f'No queries left. All queries used.')\n",
    "    return wrapper"
   ]
  },
  {
   "cell_type": "code",
   "execution_count": 16,
   "id": "4cb65824-0503-4e23-89a5-5cfe73f58243",
   "metadata": {},
   "outputs": [],
   "source": [
    "@limitquery\n",
    "def get_coin_price(limit):\n",
    "    '''View the Bitcoin Price Index (BPI)'''\n",
    "    \n",
    "    url = requests.get('https://api.coindesk.com/v1/bpi/currentprice.json')\n",
    "\n",
    "    if url.status_code == 200:\n",
    "        text = url.json()\n",
    "        return f\"${float(text['bpi']['USD']['rate_float']):.2f}\""
   ]
  },
  {
   "cell_type": "code",
   "execution_count": 17,
   "id": "b9bcb8cb-9597-4034-889d-77a323364f51",
   "metadata": {},
   "outputs": [
    {
     "data": {
      "text/plain": [
       "<function __main__.limitquery.<locals>.wrapper(*args, **kwargs)>"
      ]
     },
     "execution_count": 17,
     "metadata": {},
     "output_type": "execute_result"
    }
   ],
   "source": [
    "get_coin_price"
   ]
  },
  {
   "cell_type": "code",
   "execution_count": 18,
   "id": "4ac4582f-afb7-4857-92df-7bda921e3b72",
   "metadata": {},
   "outputs": [
    {
     "name": "stdout",
     "output_type": "stream",
     "text": [
      "$31095.67\n",
      "$31095.67\n",
      "$31095.67\n",
      "$31095.67\n",
      "$31095.67\n",
      "$31095.67\n"
     ]
    }
   ],
   "source": [
    "print(get_coin_price(5))\n",
    "print(get_coin_price(5))\n",
    "print(get_coin_price(5))\n",
    "print(get_coin_price(5))\n",
    "print(get_coin_price(5))\n",
    "print(get_coin_price(5))"
   ]
  },
  {
   "cell_type": "code",
   "execution_count": 39,
   "id": "0cad7e23-eb37-4ad3-93a9-4e18e5bcd8b3",
   "metadata": {},
   "outputs": [],
   "source": [
    "def get_coin_price():\n",
    "    '''View the Bitcoin Price Index (BPI)'''\n",
    "    \n",
    "    url = requests.get('https://api.coindesk.com/v1/bpi/currentprice.json')\n",
    "\n",
    "    if url.status_code == 200:\n",
    "        text = url.json()\n",
    "        return f\"${float(text['bpi']['USD']['rate_float']):.2f}\""
   ]
  },
  {
   "cell_type": "code",
   "execution_count": 40,
   "id": "e47eabc6-10ed-472d-88c0-1d7ae29a6a23",
   "metadata": {},
   "outputs": [
    {
     "data": {
      "text/plain": [
       "'$31096.69'"
      ]
     },
     "execution_count": 40,
     "metadata": {},
     "output_type": "execute_result"
    }
   ],
   "source": [
    "get_coin_price()"
   ]
  },
  {
   "cell_type": "code",
   "execution_count": 41,
   "id": "6c99022f-25f3-4be4-9dcc-c39587cafaa4",
   "metadata": {},
   "outputs": [
    {
     "data": {
      "text/plain": [
       "'$31096.69'"
      ]
     },
     "execution_count": 41,
     "metadata": {},
     "output_type": "execute_result"
    }
   ],
   "source": [
    "get_coin_price()"
   ]
  },
  {
   "cell_type": "code",
   "execution_count": 42,
   "id": "d8750370-e32a-45c8-a490-3d0b2ce6bf34",
   "metadata": {},
   "outputs": [
    {
     "data": {
      "text/plain": [
       "'$31148.21'"
      ]
     },
     "execution_count": 42,
     "metadata": {},
     "output_type": "execute_result"
    }
   ],
   "source": [
    "get_coin_price()"
   ]
  },
  {
   "cell_type": "code",
   "execution_count": 43,
   "id": "47cada18-ce27-4d4e-b728-7a04049995ba",
   "metadata": {},
   "outputs": [
    {
     "data": {
      "text/plain": [
       "'$31148.21'"
      ]
     },
     "execution_count": 43,
     "metadata": {},
     "output_type": "execute_result"
    }
   ],
   "source": [
    "get_coin_price()"
   ]
  },
  {
   "cell_type": "code",
   "execution_count": 44,
   "id": "44a8bcd0-1ca2-4dbb-973c-f50b83c9604b",
   "metadata": {},
   "outputs": [
    {
     "data": {
      "text/plain": [
       "'$31148.21'"
      ]
     },
     "execution_count": 44,
     "metadata": {},
     "output_type": "execute_result"
    }
   ],
   "source": [
    "get_coin_price()"
   ]
  },
  {
   "cell_type": "code",
   "execution_count": 45,
   "id": "f7dfbcd2-ae1a-4fcc-8943-5f1db6110b1b",
   "metadata": {},
   "outputs": [
    {
     "data": {
      "text/plain": [
       "'$31148.21'"
      ]
     },
     "execution_count": 45,
     "metadata": {},
     "output_type": "execute_result"
    }
   ],
   "source": [
    "get_coin_price()"
   ]
  },
  {
   "cell_type": "code",
   "execution_count": 46,
   "id": "3477bac1-8f55-40fb-84c7-7bf4b50d2e63",
   "metadata": {},
   "outputs": [
    {
     "data": {
      "text/plain": [
       "'$31148.21'"
      ]
     },
     "execution_count": 46,
     "metadata": {},
     "output_type": "execute_result"
    }
   ],
   "source": [
    "get_coin_price()"
   ]
  },
  {
   "cell_type": "code",
   "execution_count": 47,
   "id": "1b083177-3b16-4b05-ab94-a8d67b15d0b5",
   "metadata": {},
   "outputs": [
    {
     "data": {
      "text/plain": [
       "'$31148.21'"
      ]
     },
     "execution_count": 47,
     "metadata": {},
     "output_type": "execute_result"
    }
   ],
   "source": [
    "get_coin_price()"
   ]
  },
  {
   "cell_type": "code",
   "execution_count": 48,
   "id": "bda22a83-c4bf-4387-9b67-6e63a09127c0",
   "metadata": {},
   "outputs": [
    {
     "data": {
      "text/plain": [
       "'$31148.21'"
      ]
     },
     "execution_count": 48,
     "metadata": {},
     "output_type": "execute_result"
    }
   ],
   "source": [
    "get_coin_price()"
   ]
  },
  {
   "cell_type": "code",
   "execution_count": 49,
   "id": "7d30ca33-0929-4ef1-b104-0b820c96c4e5",
   "metadata": {},
   "outputs": [
    {
     "data": {
      "text/plain": [
       "'$31148.21'"
      ]
     },
     "execution_count": 49,
     "metadata": {},
     "output_type": "execute_result"
    }
   ],
   "source": [
    "get_coin_price()"
   ]
  },
  {
   "cell_type": "code",
   "execution_count": 50,
   "id": "e780a925-1e6e-451c-80d8-fc0da1f13e97",
   "metadata": {},
   "outputs": [
    {
     "data": {
      "text/plain": [
       "'$31148.21'"
      ]
     },
     "execution_count": 50,
     "metadata": {},
     "output_type": "execute_result"
    }
   ],
   "source": [
    "get_coin_price()"
   ]
  },
  {
   "cell_type": "code",
   "execution_count": 51,
   "id": "076cf0d6-0c6c-4594-9a68-4e61def08637",
   "metadata": {},
   "outputs": [
    {
     "data": {
      "text/plain": [
       "'$31148.21'"
      ]
     },
     "execution_count": 51,
     "metadata": {},
     "output_type": "execute_result"
    }
   ],
   "source": [
    "get_coin_price()"
   ]
  },
  {
   "cell_type": "code",
   "execution_count": 52,
   "id": "8eb87cc4-028b-4d6a-b0a3-c958f54e9ef7",
   "metadata": {},
   "outputs": [
    {
     "data": {
      "text/plain": [
       "'$31148.21'"
      ]
     },
     "execution_count": 52,
     "metadata": {},
     "output_type": "execute_result"
    }
   ],
   "source": [
    "get_coin_price()"
   ]
  },
  {
   "cell_type": "code",
   "execution_count": 53,
   "id": "3039e4bf-0a9f-450e-b8d6-b11f5d2f8718",
   "metadata": {},
   "outputs": [
    {
     "data": {
      "text/plain": [
       "'$31148.21'"
      ]
     },
     "execution_count": 53,
     "metadata": {},
     "output_type": "execute_result"
    }
   ],
   "source": [
    "get_coin_price()"
   ]
  },
  {
   "cell_type": "code",
   "execution_count": 54,
   "id": "d482cc0c-fa3a-4a60-9c45-9abb67015ce5",
   "metadata": {},
   "outputs": [
    {
     "data": {
      "text/plain": [
       "'$31148.21'"
      ]
     },
     "execution_count": 54,
     "metadata": {},
     "output_type": "execute_result"
    }
   ],
   "source": [
    "get_coin_price()"
   ]
  },
  {
   "cell_type": "code",
   "execution_count": 55,
   "id": "dc3bf02c-31c9-420e-8fb1-18081f14e354",
   "metadata": {},
   "outputs": [
    {
     "data": {
      "text/plain": [
       "'$31148.21'"
      ]
     },
     "execution_count": 55,
     "metadata": {},
     "output_type": "execute_result"
    }
   ],
   "source": [
    "get_coin_price()"
   ]
  },
  {
   "cell_type": "code",
   "execution_count": 56,
   "id": "8ff01815-54ae-4d1a-a022-8dc4c7b61e8d",
   "metadata": {},
   "outputs": [
    {
     "data": {
      "text/plain": [
       "'$31148.21'"
      ]
     },
     "execution_count": 56,
     "metadata": {},
     "output_type": "execute_result"
    }
   ],
   "source": [
    "get_coin_price()"
   ]
  },
  {
   "cell_type": "code",
   "execution_count": 57,
   "id": "14195917-bc24-44e9-96d1-e4fa9366f73e",
   "metadata": {},
   "outputs": [
    {
     "data": {
      "text/plain": [
       "'$31148.21'"
      ]
     },
     "execution_count": 57,
     "metadata": {},
     "output_type": "execute_result"
    }
   ],
   "source": [
    "get_coin_price()"
   ]
  },
  {
   "cell_type": "code",
   "execution_count": 58,
   "id": "3f6bf9cc-d275-410f-856c-fc6e6b54d655",
   "metadata": {},
   "outputs": [
    {
     "data": {
      "text/plain": [
       "'$31148.21'"
      ]
     },
     "execution_count": 58,
     "metadata": {},
     "output_type": "execute_result"
    }
   ],
   "source": [
    "get_coin_price()"
   ]
  },
  {
   "cell_type": "code",
   "execution_count": null,
   "id": "219011cb-32e9-4fda-bc34-eadda7848459",
   "metadata": {},
   "outputs": [],
   "source": []
  },
  {
   "cell_type": "code",
   "execution_count": null,
   "id": "50885218-520e-4bf8-9187-74bfc3d24bb4",
   "metadata": {},
   "outputs": [],
   "source": []
  }
 ],
 "metadata": {
  "kernelspec": {
   "display_name": "Python 3 (ipykernel)",
   "language": "python",
   "name": "python3"
  },
  "language_info": {
   "codemirror_mode": {
    "name": "ipython",
    "version": 3
   },
   "file_extension": ".py",
   "mimetype": "text/x-python",
   "name": "python",
   "nbconvert_exporter": "python",
   "pygments_lexer": "ipython3",
   "version": "3.9.7"
  }
 },
 "nbformat": 4,
 "nbformat_minor": 5
}
