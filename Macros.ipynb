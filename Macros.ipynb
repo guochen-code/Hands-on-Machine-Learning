{
 "cells": [
  {
   "cell_type": "markdown",
   "metadata": {},
   "source": [
    "# Macros"
   ]
  },
  {
   "cell_type": "markdown",
   "metadata": {},
   "source": [
    "This notebook shows how to use *macros* commands in Jupyter.\n",
    "\n",
    "What is *macro*? It is just a named code snippet. Similarly to functions, we can use macros to wrap frequently used code. For example, we can define a macro, that will load all the libraries for us.\n",
    "\n",
    "### Step 1: Define macro \n",
    "\n",
    "To save some code as a macro we need to put that code in a cell and run it. "
   ]
  },
  {
   "cell_type": "code",
   "execution_count": 1,
   "metadata": {},
   "outputs": [
    {
     "name": "stdout",
     "output_type": "stream",
     "text": [
      "The libraries have been loaded!\n"
     ]
    }
   ],
   "source": [
    "import numpy as np\n",
    "import pandas as pd \n",
    "from tqdm import tqdm_notebook\n",
    "import os\n",
    "import sys\n",
    "import os.path\n",
    "\n",
    "import matplotlib.pyplot as plt\n",
    "import matplotlib as mpl\n",
    "from matplotlib import rc\n",
    "from cycler import cycler\n",
    "%matplotlib inline\n",
    "\n",
    " \n",
    "mpl.rcParams['axes.prop_cycle'] = cycler('color', ['#ff0000', '#0000ff',   '#00ffff','#ffA300', '#00ff00', \n",
    "     '#ff00ff', '#990000', '#009999', '#999900', '#009900', '#009999'])\n",
    "\n",
    "rc('font', size=16)\n",
    "rc('font',**{'family':'serif','serif':['Computer Modern']})\n",
    "rc('text', usetex=False)\n",
    "rc('figure', figsize=(12, 10))\n",
    "rc('axes', linewidth=.5)\n",
    "rc('lines', linewidth=1.75)\n",
    "\n",
    "print('The libraries have been loaded!')"
   ]
  },
  {
   "cell_type": "markdown",
   "metadata": {},
   "source": [
    "Now you need to remember the number inside squre brackets of `In [<number>]`. Now, to save the code, in that cell you need to use macro magic:\n",
    "\n",
    "```\n",
    "%macro __imp <number>\n",
    "```"
   ]
  },
  {
   "cell_type": "code",
   "execution_count": 2,
   "metadata": {},
   "outputs": [],
   "source": [
    "%macro -q __imp 1"
   ]
  },
  {
   "cell_type": "markdown",
   "metadata": {},
   "source": [
    "Now try it!"
   ]
  },
  {
   "cell_type": "code",
   "execution_count": 3,
   "metadata": {},
   "outputs": [
    {
     "name": "stdout",
     "output_type": "stream",
     "text": [
      "The libraries have been loaded!\n"
     ]
    }
   ],
   "source": [
    "__imp"
   ]
  },
  {
   "cell_type": "markdown",
   "metadata": {},
   "source": [
    "### Step 2: save macro\n",
    "\n",
    "To this end we've only created a macro, but it will be lost, when the kernel is restarted. We need to somehow store it, so than we can load it easily later. In can be done with `%store` macro."
   ]
  },
  {
   "cell_type": "code",
   "execution_count": 4,
   "metadata": {},
   "outputs": [
    {
     "name": "stdout",
     "output_type": "stream",
     "text": [
      "Stored '__imp' (Macro)\n"
     ]
    }
   ],
   "source": [
    "%store __imp"
   ]
  },
  {
   "cell_type": "markdown",
   "metadata": {},
   "source": [
    "Now `__imp` is saved in a kind of Jupyter's global memory. You can list all the stored variables like that:"
   ]
  },
  {
   "cell_type": "code",
   "execution_count": 5,
   "metadata": {},
   "outputs": [
    {
     "name": "stdout",
     "output_type": "stream",
     "text": [
      "Stored variables and their in-db values:\n",
      "__imp             -> IPython.macro.Macro(\"import numpy as np\\nimport pa\n"
     ]
    }
   ],
   "source": [
    "%store"
   ]
  },
  {
   "cell_type": "markdown",
   "metadata": {},
   "source": [
    "Now **restart the kernel** and get back to this cell without running the previous ones. To run the stored macro you need to retrieve the macro first with the following line: "
   ]
  },
  {
   "cell_type": "code",
   "execution_count": null,
   "metadata": {},
   "outputs": [],
   "source": [
    "%store -r __imp"
   ]
  },
  {
   "cell_type": "markdown",
   "metadata": {},
   "source": [
    "And only then call the macro:"
   ]
  },
  {
   "cell_type": "code",
   "execution_count": 2,
   "metadata": {},
   "outputs": [
    {
     "name": "stdout",
     "output_type": "stream",
     "text": [
      "The libraries have been loaded!\n"
     ]
    }
   ],
   "source": [
    "__imp"
   ]
  },
  {
   "cell_type": "markdown",
   "metadata": {},
   "source": [
    "### Step 3: auto restore macro"
   ]
  },
  {
   "cell_type": "markdown",
   "metadata": {},
   "source": [
    "So you need to use as many as 2 cells! But, fortunately, Jupyer can load the stored variables (and macros) automatically. To enable it you need to update you `.ipython_profile` [config](http://ipython.readthedocs.io/en/stable/development/config.html). If you've never heared of it, then it is not yet created, otherwise you should know where it lives. \n",
    "\n",
    "On Coursera's notebooks we will create it here: `~/.ipython/profile_default/ipython_profile.py` and notify the ipython, that we want it to automatically restore stored variables.\n",
    "\n",
    "```\n",
    "c.StoreMagics.autorestore = True\n",
    "```"
   ]
  },
  {
   "cell_type": "code",
   "execution_count": 3,
   "metadata": {},
   "outputs": [
    {
     "name": "stdout",
     "output_type": "stream",
     "text": [
      "c.StoreMagics.autorestore = True\n"
     ]
    }
   ],
   "source": [
    "!echo \"c.StoreMagics.autorestore = True\" > ~/.ipython/profile_default/ipython_config.py\n",
    "!cat ~/.ipython/profile_default/ipython_config.py"
   ]
  },
  {
   "cell_type": "markdown",
   "metadata": {},
   "source": [
    "That's it! Now **restart your notebook (kernel)** and **define and store macro** again (step 1 and first code cell from step 2). And finally, to test it, **restart the kernel** again. Now you can immediately access `__imp` macro, so that all the libraries are loaded with a 5 char line of code."
   ]
  },
  {
   "cell_type": "code",
   "execution_count": 1,
   "metadata": {},
   "outputs": [
    {
     "name": "stdout",
     "output_type": "stream",
     "text": [
      "The libraries have been loaded!\n"
     ]
    }
   ],
   "source": [
    "__imp"
   ]
  },
  {
   "cell_type": "code",
   "execution_count": 11,
   "metadata": {},
   "outputs": [
    {
     "name": "stdout",
     "output_type": "stream",
     "text": [
      "[TerminalIPythonApp] ERROR | Exception while loading config file /Users/chenguo/.ipython/profile_foo/ipython_config.py\n",
      "Traceback (most recent call last):\n",
      "  File \"/Users/chenguo/opt/anaconda3/lib/python3.7/site-packages/traitlets/config/application.py\", line 563, in _load_config_files\n",
      "    config = loader.load_config()\n",
      "  File \"/Users/chenguo/opt/anaconda3/lib/python3.7/site-packages/traitlets/config/loader.py\", line 457, in load_config\n",
      "    self._read_file_as_dict()\n",
      "  File \"/Users/chenguo/opt/anaconda3/lib/python3.7/site-packages/traitlets/config/loader.py\", line 489, in _read_file_as_dict\n",
      "    py3compat.execfile(conf_filename, namespace)\n",
      "  File \"/Users/chenguo/opt/anaconda3/lib/python3.7/site-packages/ipython_genutils/py3compat.py\", line 198, in execfile\n",
      "    exec(compiler(f.read(), fname, 'exec'), glob, loc)\n",
      "  File \"/Users/chenguo/.ipython/profile_foo/ipython_config.py\", line 1\n",
      "    c = pass\n",
      "           ^\n",
      "SyntaxError: invalid syntax\n",
      "\u001b[22;0t\u001b]0;IPython: IBM-ML Python/Kaggle Competition\u0007Python 3.7.6 (default, Jan  8 2020, 13:42:34) \n",
      "Type 'copyright', 'credits' or 'license' for more information\n",
      "IPython 7.16.1 -- An enhanced Interactive Python. Type '?' for help.\n",
      "\n",
      "IPython profile: foo\n",
      "\n",
      "\u001b[8C\u001b[?7h\u001b[0m\u001b[?12l\u001b[?25h0m\u001b[?7l\u001b[0m\u001b[J\u001b[0;38;5;28mIn [\u001b[0;92;1m1\u001b[0;38;5;28m]: \u001b[0m                                                                       \u001b[8D\u001b[J\u001b[0m\u001b[?7h\u001b[?2004l\u001b[?1lWARNING: your terminal doesn't support cursor position requests (CPR).\n",
      "\u001b[0mC ?7h\u001b[0m\u001b[?12l\u001b[?25h0m\u001b[J\u001b[0;38;5;28mIn [\u001b[0;92;1m1\u001b[0;38;5;28m]: \u001b[0m                                                                       \u001b[?25l\u001b[?7l\u001b[8D\u001b[0m\u001b[J\u001b[0;38;5;28mIn [\u001b[0;92;1m1\u001b[0;38;5;28m]: \u001b[0m                                                                       \n",
      "\u001b[J\u001b[?7h\u001b[0m\u001b[?12l\u001b[?25h\u001b[?2004l\n",
      "\u001b[8C\u001b[?7h\u001b[0m\u001b[?12l\u001b[?25h\u001b[?25l\u001b[?7l\u001b[?7h\u001b[0m\u001b[?12l\u001b[?25h;1m1\u001b[0;38;5;28m]: \u001b[0m                                                                       "
     ]
    }
   ],
   "source": [
    "! ipython --profile=foo  "
   ]
  },
  {
   "cell_type": "code",
   "execution_count": 14,
   "metadata": {},
   "outputs": [],
   "source": [
    "! ipython profile create foo1"
   ]
  },
  {
   "cell_type": "code",
   "execution_count": 18,
   "metadata": {},
   "outputs": [
    {
     "name": "stdout",
     "output_type": "stream",
     "text": [
      "\u001b[22;0t\u001b]0;IPython: IBM-ML Python/Kaggle Competition\u0007Python 3.7.6 (default, Jan  8 2020, 13:42:34) \n",
      "Type 'copyright', 'credits' or 'license' for more information\n",
      "IPython 7.16.1 -- An enhanced Interactive Python. Type '?' for help.\n",
      "\n",
      "\u001b[8C\u001b[?7h\u001b[0m\u001b[?12l\u001b[?25h0m\u001b[?7l\u001b[0m\u001b[J\u001b[0;38;5;28mIn [\u001b[0;92;1m1\u001b[0;38;5;28m]: \u001b[0m                                                                       \u001b[8D\u001b[J\u001b[0m\u001b[?7h\u001b[?2004l\u001b[?1lWARNING: your terminal doesn't support cursor position requests (CPR).\n",
      "\u001b[0mC ?7h\u001b[0m\u001b[?12l\u001b[?25h0m\u001b[J\u001b[0;38;5;28mIn [\u001b[0;92;1m1\u001b[0;38;5;28m]: \u001b[0m                                                                       \u001b[?25l\u001b[?7l\u001b[8D\u001b[0m\u001b[J\u001b[0;38;5;28mIn [\u001b[0;92;1m1\u001b[0;38;5;28m]: \u001b[0m                                                                       \n",
      "\u001b[J\u001b[?7h\u001b[0m\u001b[?12l\u001b[?25h\u001b[?2004l\n",
      "\u001b[8C\u001b[?7h\u001b[0m\u001b[?12l\u001b[?25h\u001b[?25l\u001b[?7l\u001b[?7h\u001b[0m\u001b[?12l\u001b[?25h;1m1\u001b[0;38;5;28m]: \u001b[0m                                                                       "
     ]
    }
   ],
   "source": [
    "! ipython --profile=default"
   ]
  },
  {
   "cell_type": "code",
   "execution_count": 14,
   "metadata": {},
   "outputs": [
    {
     "name": "stdout",
     "output_type": "stream",
     "text": [
      "c.StoreMagics.autorestore = True\n"
     ]
    }
   ],
   "source": [
    "!echo \"c.StoreMagics.autorestore = True\" > ~/.ipython/profile_foo1/ipython_config.py\n",
    "!cat ~/.ipython/profile_foo1/ipython_config.py"
   ]
  },
  {
   "cell_type": "code",
   "execution_count": 8,
   "metadata": {},
   "outputs": [
    {
     "data": {
      "text/plain": [
       "'/Users/chenguo/.ipython'"
      ]
     },
     "execution_count": 8,
     "metadata": {},
     "output_type": "execute_result"
    }
   ],
   "source": [
    "import IPython\n",
    "IPython.paths.get_ipython_dir()"
   ]
  },
  {
   "cell_type": "code",
   "execution_count": 12,
   "metadata": {},
   "outputs": [
    {
     "name": "stdout",
     "output_type": "stream",
     "text": [
      "[TerminalIPythonApp] IPYTHONDIR set to: /Users/chenguo/.ipython\n",
      "[TerminalIPythonApp] Using existing profile dir: '/Users/chenguo/.ipython/profile_default'\n",
      "[TerminalIPythonApp] Searching path ['/Users/chenguo/Desktop/IBM-ML Python/Kaggle Competition', '/Users/chenguo/.ipython/profile_default', '/Users/chenguo/opt/anaconda3/etc/ipython', '/usr/local/etc/ipython', '/etc/ipython'] for config files\n",
      "[TerminalIPythonApp] Attempting to load config file: ipython_config.py\n",
      "[TerminalIPythonApp] Looking for ipython_config in /etc/ipython\n",
      "[TerminalIPythonApp] Looking for ipython_config in /usr/local/etc/ipython\n",
      "[TerminalIPythonApp] Looking for ipython_config in /Users/chenguo/opt/anaconda3/etc/ipython\n",
      "[TerminalIPythonApp] Looking for ipython_config in /Users/chenguo/.ipython/profile_default\n",
      "[TerminalIPythonApp] ERROR | Exception while loading config file /Users/chenguo/.ipython/profile_default/ipython_config.py\n",
      "Traceback (most recent call last):\n",
      "  File \"/Users/chenguo/opt/anaconda3/lib/python3.7/site-packages/traitlets/config/application.py\", line 563, in _load_config_files\n",
      "    config = loader.load_config()\n",
      "  File \"/Users/chenguo/opt/anaconda3/lib/python3.7/site-packages/traitlets/config/loader.py\", line 457, in load_config\n",
      "    self._read_file_as_dict()\n",
      "  File \"/Users/chenguo/opt/anaconda3/lib/python3.7/site-packages/traitlets/config/loader.py\", line 489, in _read_file_as_dict\n",
      "    py3compat.execfile(conf_filename, namespace)\n",
      "  File \"/Users/chenguo/opt/anaconda3/lib/python3.7/site-packages/ipython_genutils/py3compat.py\", line 198, in execfile\n",
      "    exec(compiler(f.read(), fname, 'exec'), glob, loc)\n",
      "  File \"/Users/chenguo/.ipython/profile_default/ipython_config.py\", line 1\n",
      "    c = get_config()\\nc.StoreMagics.autorestore == True\n",
      "                                                      ^\n",
      "SyntaxError: unexpected character after line continuation character\n",
      "[TerminalIPythonApp] Looking for ipython_config in /Users/chenguo/Desktop/IBM-ML Python/Kaggle Competition\n",
      "\u001b[22;0t\u001b]0;IPython: IBM-ML Python/Kaggle Competition\u0007\n",
      "[TerminalIPythonApp] Loading IPython extensions...\n",
      "[TerminalIPythonApp] Loading IPython extension: storemagic\n",
      "[TerminalIPythonApp] Running code given at command line (c=): exit()\n",
      "[TerminalIPythonApp] IPython not interactive...\n"
     ]
    }
   ],
   "source": [
    "! ipython --debug -c 'exit()'"
   ]
  },
  {
   "cell_type": "code",
   "execution_count": null,
   "metadata": {},
   "outputs": [],
   "source": []
  }
 ],
 "metadata": {
  "kernelspec": {
   "display_name": "Python 3",
   "language": "python",
   "name": "python3"
  },
  "language_info": {
   "codemirror_mode": {
    "name": "ipython",
    "version": 3
   },
   "file_extension": ".py",
   "mimetype": "text/x-python",
   "name": "python",
   "nbconvert_exporter": "python",
   "pygments_lexer": "ipython3",
   "version": "3.7.6"
  }
 },
 "nbformat": 4,
 "nbformat_minor": 4
}
